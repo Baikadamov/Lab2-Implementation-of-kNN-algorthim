{
 "cells": [
  {
   "cell_type": "code",
   "execution_count": 1,
   "id": "dbe58f8c-5e18-4492-8f45-4313307aae45",
   "metadata": {
    "tags": []
   },
   "outputs": [],
   "source": [
    "import numpy as np\n",
    "import pandas as pd\n",
    "from sklearn.model_selection import train_test_split\n",
    "from sklearn.neighbors import KNeighborsClassifier\n",
    "from sklearn.metrics import classification_report, confusion_matrix\n",
    "from sklearn.datasets import load_iris\n",
    "from sklearn.datasets import load_diabetes\n",
    "import seaborn as sns\n",
    "import matplotlib.pyplot as plt\n",
    "from sklearn.model_selection import cross_val_score\n"
   ]
  },
  {
   "cell_type": "code",
   "execution_count": 2,
   "id": "af56b73c-5c07-48ef-99d8-769b46e9d49a",
   "metadata": {
    "tags": []
   },
   "outputs": [],
   "source": [
    "df = pd.read_csv('winequality-red.csv')"
   ]
  },
  {
   "cell_type": "code",
   "execution_count": 3,
   "id": "b31074e7-310c-4216-a535-62492a28c9d3",
   "metadata": {
    "tags": []
   },
   "outputs": [
    {
     "data": {
      "text/html": [
       "<div>\n",
       "<style scoped>\n",
       "    .dataframe tbody tr th:only-of-type {\n",
       "        vertical-align: middle;\n",
       "    }\n",
       "\n",
       "    .dataframe tbody tr th {\n",
       "        vertical-align: top;\n",
       "    }\n",
       "\n",
       "    .dataframe thead th {\n",
       "        text-align: right;\n",
       "    }\n",
       "</style>\n",
       "<table border=\"1\" class=\"dataframe\">\n",
       "  <thead>\n",
       "    <tr style=\"text-align: right;\">\n",
       "      <th></th>\n",
       "      <th>0</th>\n",
       "      <th>1</th>\n",
       "      <th>2</th>\n",
       "      <th>3</th>\n",
       "      <th>4</th>\n",
       "      <th>5</th>\n",
       "      <th>6</th>\n",
       "      <th>7</th>\n",
       "      <th>8</th>\n",
       "      <th>9</th>\n",
       "      <th>10</th>\n",
       "      <th>11</th>\n",
       "      <th>12</th>\n",
       "      <th>13</th>\n",
       "      <th>14</th>\n",
       "      <th>15</th>\n",
       "      <th>16</th>\n",
       "      <th>17</th>\n",
       "      <th>18</th>\n",
       "      <th>19</th>\n",
       "    </tr>\n",
       "  </thead>\n",
       "  <tbody>\n",
       "    <tr>\n",
       "      <th>fixed acidity</th>\n",
       "      <td>7.4000</td>\n",
       "      <td>7.8000</td>\n",
       "      <td>7.800</td>\n",
       "      <td>11.200</td>\n",
       "      <td>7.4000</td>\n",
       "      <td>7.4000</td>\n",
       "      <td>7.9000</td>\n",
       "      <td>7.3000</td>\n",
       "      <td>7.8000</td>\n",
       "      <td>7.5000</td>\n",
       "      <td>6.7000</td>\n",
       "      <td>7.5000</td>\n",
       "      <td>5.6000</td>\n",
       "      <td>7.8000</td>\n",
       "      <td>8.9000</td>\n",
       "      <td>8.9000</td>\n",
       "      <td>8.5000</td>\n",
       "      <td>8.1000</td>\n",
       "      <td>7.4000</td>\n",
       "      <td>7.9000</td>\n",
       "    </tr>\n",
       "    <tr>\n",
       "      <th>volatile acidity</th>\n",
       "      <td>0.7000</td>\n",
       "      <td>0.8800</td>\n",
       "      <td>0.760</td>\n",
       "      <td>0.280</td>\n",
       "      <td>0.7000</td>\n",
       "      <td>0.6600</td>\n",
       "      <td>0.6000</td>\n",
       "      <td>0.6500</td>\n",
       "      <td>0.5800</td>\n",
       "      <td>0.5000</td>\n",
       "      <td>0.5800</td>\n",
       "      <td>0.5000</td>\n",
       "      <td>0.6150</td>\n",
       "      <td>0.6100</td>\n",
       "      <td>0.6200</td>\n",
       "      <td>0.6200</td>\n",
       "      <td>0.2800</td>\n",
       "      <td>0.5600</td>\n",
       "      <td>0.5900</td>\n",
       "      <td>0.3200</td>\n",
       "    </tr>\n",
       "    <tr>\n",
       "      <th>citric acid</th>\n",
       "      <td>0.0000</td>\n",
       "      <td>0.0000</td>\n",
       "      <td>0.040</td>\n",
       "      <td>0.560</td>\n",
       "      <td>0.0000</td>\n",
       "      <td>0.0000</td>\n",
       "      <td>0.0600</td>\n",
       "      <td>0.0000</td>\n",
       "      <td>0.0200</td>\n",
       "      <td>0.3600</td>\n",
       "      <td>0.0800</td>\n",
       "      <td>0.3600</td>\n",
       "      <td>0.0000</td>\n",
       "      <td>0.2900</td>\n",
       "      <td>0.1800</td>\n",
       "      <td>0.1900</td>\n",
       "      <td>0.5600</td>\n",
       "      <td>0.2800</td>\n",
       "      <td>0.0800</td>\n",
       "      <td>0.5100</td>\n",
       "    </tr>\n",
       "    <tr>\n",
       "      <th>residual sugar</th>\n",
       "      <td>1.9000</td>\n",
       "      <td>2.6000</td>\n",
       "      <td>2.300</td>\n",
       "      <td>1.900</td>\n",
       "      <td>1.9000</td>\n",
       "      <td>1.8000</td>\n",
       "      <td>1.6000</td>\n",
       "      <td>1.2000</td>\n",
       "      <td>2.0000</td>\n",
       "      <td>6.1000</td>\n",
       "      <td>1.8000</td>\n",
       "      <td>6.1000</td>\n",
       "      <td>1.6000</td>\n",
       "      <td>1.6000</td>\n",
       "      <td>3.8000</td>\n",
       "      <td>3.9000</td>\n",
       "      <td>1.8000</td>\n",
       "      <td>1.7000</td>\n",
       "      <td>4.4000</td>\n",
       "      <td>1.8000</td>\n",
       "    </tr>\n",
       "    <tr>\n",
       "      <th>chlorides</th>\n",
       "      <td>0.0760</td>\n",
       "      <td>0.0980</td>\n",
       "      <td>0.092</td>\n",
       "      <td>0.075</td>\n",
       "      <td>0.0760</td>\n",
       "      <td>0.0750</td>\n",
       "      <td>0.0690</td>\n",
       "      <td>0.0650</td>\n",
       "      <td>0.0730</td>\n",
       "      <td>0.0710</td>\n",
       "      <td>0.0970</td>\n",
       "      <td>0.0710</td>\n",
       "      <td>0.0890</td>\n",
       "      <td>0.1140</td>\n",
       "      <td>0.1760</td>\n",
       "      <td>0.1700</td>\n",
       "      <td>0.0920</td>\n",
       "      <td>0.3680</td>\n",
       "      <td>0.0860</td>\n",
       "      <td>0.3410</td>\n",
       "    </tr>\n",
       "    <tr>\n",
       "      <th>free sulfur dioxide</th>\n",
       "      <td>11.0000</td>\n",
       "      <td>25.0000</td>\n",
       "      <td>15.000</td>\n",
       "      <td>17.000</td>\n",
       "      <td>11.0000</td>\n",
       "      <td>13.0000</td>\n",
       "      <td>15.0000</td>\n",
       "      <td>15.0000</td>\n",
       "      <td>9.0000</td>\n",
       "      <td>17.0000</td>\n",
       "      <td>15.0000</td>\n",
       "      <td>17.0000</td>\n",
       "      <td>16.0000</td>\n",
       "      <td>9.0000</td>\n",
       "      <td>52.0000</td>\n",
       "      <td>51.0000</td>\n",
       "      <td>35.0000</td>\n",
       "      <td>16.0000</td>\n",
       "      <td>6.0000</td>\n",
       "      <td>17.0000</td>\n",
       "    </tr>\n",
       "    <tr>\n",
       "      <th>total sulfur dioxide</th>\n",
       "      <td>34.0000</td>\n",
       "      <td>67.0000</td>\n",
       "      <td>54.000</td>\n",
       "      <td>60.000</td>\n",
       "      <td>34.0000</td>\n",
       "      <td>40.0000</td>\n",
       "      <td>59.0000</td>\n",
       "      <td>21.0000</td>\n",
       "      <td>18.0000</td>\n",
       "      <td>102.0000</td>\n",
       "      <td>65.0000</td>\n",
       "      <td>102.0000</td>\n",
       "      <td>59.0000</td>\n",
       "      <td>29.0000</td>\n",
       "      <td>145.0000</td>\n",
       "      <td>148.0000</td>\n",
       "      <td>103.0000</td>\n",
       "      <td>56.0000</td>\n",
       "      <td>29.0000</td>\n",
       "      <td>56.0000</td>\n",
       "    </tr>\n",
       "    <tr>\n",
       "      <th>density</th>\n",
       "      <td>0.9978</td>\n",
       "      <td>0.9968</td>\n",
       "      <td>0.997</td>\n",
       "      <td>0.998</td>\n",
       "      <td>0.9978</td>\n",
       "      <td>0.9978</td>\n",
       "      <td>0.9964</td>\n",
       "      <td>0.9946</td>\n",
       "      <td>0.9968</td>\n",
       "      <td>0.9978</td>\n",
       "      <td>0.9959</td>\n",
       "      <td>0.9978</td>\n",
       "      <td>0.9943</td>\n",
       "      <td>0.9974</td>\n",
       "      <td>0.9986</td>\n",
       "      <td>0.9986</td>\n",
       "      <td>0.9969</td>\n",
       "      <td>0.9968</td>\n",
       "      <td>0.9974</td>\n",
       "      <td>0.9969</td>\n",
       "    </tr>\n",
       "    <tr>\n",
       "      <th>pH</th>\n",
       "      <td>3.5100</td>\n",
       "      <td>3.2000</td>\n",
       "      <td>3.260</td>\n",
       "      <td>3.160</td>\n",
       "      <td>3.5100</td>\n",
       "      <td>3.5100</td>\n",
       "      <td>3.3000</td>\n",
       "      <td>3.3900</td>\n",
       "      <td>3.3600</td>\n",
       "      <td>3.3500</td>\n",
       "      <td>3.2800</td>\n",
       "      <td>3.3500</td>\n",
       "      <td>3.5800</td>\n",
       "      <td>3.2600</td>\n",
       "      <td>3.1600</td>\n",
       "      <td>3.1700</td>\n",
       "      <td>3.3000</td>\n",
       "      <td>3.1100</td>\n",
       "      <td>3.3800</td>\n",
       "      <td>3.0400</td>\n",
       "    </tr>\n",
       "    <tr>\n",
       "      <th>sulphates</th>\n",
       "      <td>0.5600</td>\n",
       "      <td>0.6800</td>\n",
       "      <td>0.650</td>\n",
       "      <td>0.580</td>\n",
       "      <td>0.5600</td>\n",
       "      <td>0.5600</td>\n",
       "      <td>0.4600</td>\n",
       "      <td>0.4700</td>\n",
       "      <td>0.5700</td>\n",
       "      <td>0.8000</td>\n",
       "      <td>0.5400</td>\n",
       "      <td>0.8000</td>\n",
       "      <td>0.5200</td>\n",
       "      <td>1.5600</td>\n",
       "      <td>0.8800</td>\n",
       "      <td>0.9300</td>\n",
       "      <td>0.7500</td>\n",
       "      <td>1.2800</td>\n",
       "      <td>0.5000</td>\n",
       "      <td>1.0800</td>\n",
       "    </tr>\n",
       "    <tr>\n",
       "      <th>alcohol</th>\n",
       "      <td>9.4000</td>\n",
       "      <td>9.8000</td>\n",
       "      <td>9.800</td>\n",
       "      <td>9.800</td>\n",
       "      <td>9.4000</td>\n",
       "      <td>9.4000</td>\n",
       "      <td>9.4000</td>\n",
       "      <td>10.0000</td>\n",
       "      <td>9.5000</td>\n",
       "      <td>10.5000</td>\n",
       "      <td>9.2000</td>\n",
       "      <td>10.5000</td>\n",
       "      <td>9.9000</td>\n",
       "      <td>9.1000</td>\n",
       "      <td>9.2000</td>\n",
       "      <td>9.2000</td>\n",
       "      <td>10.5000</td>\n",
       "      <td>9.3000</td>\n",
       "      <td>9.0000</td>\n",
       "      <td>9.2000</td>\n",
       "    </tr>\n",
       "    <tr>\n",
       "      <th>quality</th>\n",
       "      <td>5.0000</td>\n",
       "      <td>5.0000</td>\n",
       "      <td>5.000</td>\n",
       "      <td>6.000</td>\n",
       "      <td>5.0000</td>\n",
       "      <td>5.0000</td>\n",
       "      <td>5.0000</td>\n",
       "      <td>7.0000</td>\n",
       "      <td>7.0000</td>\n",
       "      <td>5.0000</td>\n",
       "      <td>5.0000</td>\n",
       "      <td>5.0000</td>\n",
       "      <td>5.0000</td>\n",
       "      <td>5.0000</td>\n",
       "      <td>5.0000</td>\n",
       "      <td>5.0000</td>\n",
       "      <td>7.0000</td>\n",
       "      <td>5.0000</td>\n",
       "      <td>4.0000</td>\n",
       "      <td>6.0000</td>\n",
       "    </tr>\n",
       "  </tbody>\n",
       "</table>\n",
       "</div>"
      ],
      "text/plain": [
       "                           0        1       2       3        4        5   \\\n",
       "fixed acidity          7.4000   7.8000   7.800  11.200   7.4000   7.4000   \n",
       "volatile acidity       0.7000   0.8800   0.760   0.280   0.7000   0.6600   \n",
       "citric acid            0.0000   0.0000   0.040   0.560   0.0000   0.0000   \n",
       "residual sugar         1.9000   2.6000   2.300   1.900   1.9000   1.8000   \n",
       "chlorides              0.0760   0.0980   0.092   0.075   0.0760   0.0750   \n",
       "free sulfur dioxide   11.0000  25.0000  15.000  17.000  11.0000  13.0000   \n",
       "total sulfur dioxide  34.0000  67.0000  54.000  60.000  34.0000  40.0000   \n",
       "density                0.9978   0.9968   0.997   0.998   0.9978   0.9978   \n",
       "pH                     3.5100   3.2000   3.260   3.160   3.5100   3.5100   \n",
       "sulphates              0.5600   0.6800   0.650   0.580   0.5600   0.5600   \n",
       "alcohol                9.4000   9.8000   9.800   9.800   9.4000   9.4000   \n",
       "quality                5.0000   5.0000   5.000   6.000   5.0000   5.0000   \n",
       "\n",
       "                           6        7        8         9        10        11  \\\n",
       "fixed acidity          7.9000   7.3000   7.8000    7.5000   6.7000    7.5000   \n",
       "volatile acidity       0.6000   0.6500   0.5800    0.5000   0.5800    0.5000   \n",
       "citric acid            0.0600   0.0000   0.0200    0.3600   0.0800    0.3600   \n",
       "residual sugar         1.6000   1.2000   2.0000    6.1000   1.8000    6.1000   \n",
       "chlorides              0.0690   0.0650   0.0730    0.0710   0.0970    0.0710   \n",
       "free sulfur dioxide   15.0000  15.0000   9.0000   17.0000  15.0000   17.0000   \n",
       "total sulfur dioxide  59.0000  21.0000  18.0000  102.0000  65.0000  102.0000   \n",
       "density                0.9964   0.9946   0.9968    0.9978   0.9959    0.9978   \n",
       "pH                     3.3000   3.3900   3.3600    3.3500   3.2800    3.3500   \n",
       "sulphates              0.4600   0.4700   0.5700    0.8000   0.5400    0.8000   \n",
       "alcohol                9.4000  10.0000   9.5000   10.5000   9.2000   10.5000   \n",
       "quality                5.0000   7.0000   7.0000    5.0000   5.0000    5.0000   \n",
       "\n",
       "                           12       13        14        15        16       17  \\\n",
       "fixed acidity          5.6000   7.8000    8.9000    8.9000    8.5000   8.1000   \n",
       "volatile acidity       0.6150   0.6100    0.6200    0.6200    0.2800   0.5600   \n",
       "citric acid            0.0000   0.2900    0.1800    0.1900    0.5600   0.2800   \n",
       "residual sugar         1.6000   1.6000    3.8000    3.9000    1.8000   1.7000   \n",
       "chlorides              0.0890   0.1140    0.1760    0.1700    0.0920   0.3680   \n",
       "free sulfur dioxide   16.0000   9.0000   52.0000   51.0000   35.0000  16.0000   \n",
       "total sulfur dioxide  59.0000  29.0000  145.0000  148.0000  103.0000  56.0000   \n",
       "density                0.9943   0.9974    0.9986    0.9986    0.9969   0.9968   \n",
       "pH                     3.5800   3.2600    3.1600    3.1700    3.3000   3.1100   \n",
       "sulphates              0.5200   1.5600    0.8800    0.9300    0.7500   1.2800   \n",
       "alcohol                9.9000   9.1000    9.2000    9.2000   10.5000   9.3000   \n",
       "quality                5.0000   5.0000    5.0000    5.0000    7.0000   5.0000   \n",
       "\n",
       "                           18       19  \n",
       "fixed acidity          7.4000   7.9000  \n",
       "volatile acidity       0.5900   0.3200  \n",
       "citric acid            0.0800   0.5100  \n",
       "residual sugar         4.4000   1.8000  \n",
       "chlorides              0.0860   0.3410  \n",
       "free sulfur dioxide    6.0000  17.0000  \n",
       "total sulfur dioxide  29.0000  56.0000  \n",
       "density                0.9974   0.9969  \n",
       "pH                     3.3800   3.0400  \n",
       "sulphates              0.5000   1.0800  \n",
       "alcohol                9.0000   9.2000  \n",
       "quality                4.0000   6.0000  "
      ]
     },
     "execution_count": 3,
     "metadata": {},
     "output_type": "execute_result"
    }
   ],
   "source": [
    "df.head(20).transpose()"
   ]
  },
  {
   "cell_type": "code",
   "execution_count": 4,
   "id": "77dee68b-e6bd-4762-81e2-264f828a6661",
   "metadata": {
    "tags": []
   },
   "outputs": [
    {
     "name": "stdout",
     "output_type": "stream",
     "text": [
      "<class 'pandas.core.frame.DataFrame'>\n",
      "RangeIndex: 1599 entries, 0 to 1598\n",
      "Data columns (total 12 columns):\n",
      " #   Column                Non-Null Count  Dtype  \n",
      "---  ------                --------------  -----  \n",
      " 0   fixed acidity         1599 non-null   float64\n",
      " 1   volatile acidity      1599 non-null   float64\n",
      " 2   citric acid           1599 non-null   float64\n",
      " 3   residual sugar        1599 non-null   float64\n",
      " 4   chlorides             1599 non-null   float64\n",
      " 5   free sulfur dioxide   1599 non-null   float64\n",
      " 6   total sulfur dioxide  1599 non-null   float64\n",
      " 7   density               1599 non-null   float64\n",
      " 8   pH                    1599 non-null   float64\n",
      " 9   sulphates             1599 non-null   float64\n",
      " 10  alcohol               1599 non-null   float64\n",
      " 11  quality               1599 non-null   int64  \n",
      "dtypes: float64(11), int64(1)\n",
      "memory usage: 150.0 KB\n"
     ]
    }
   ],
   "source": [
    "df.info()"
   ]
  },
  {
   "cell_type": "code",
   "execution_count": 5,
   "id": "18df2570-a733-414e-bbf2-1a4b29a51dca",
   "metadata": {
    "tags": []
   },
   "outputs": [
    {
     "data": {
      "text/plain": [
       "fixed acidity           0\n",
       "volatile acidity        0\n",
       "citric acid             0\n",
       "residual sugar          0\n",
       "chlorides               0\n",
       "free sulfur dioxide     0\n",
       "total sulfur dioxide    0\n",
       "density                 0\n",
       "pH                      0\n",
       "sulphates               0\n",
       "alcohol                 0\n",
       "quality                 0\n",
       "dtype: int64"
      ]
     },
     "execution_count": 5,
     "metadata": {},
     "output_type": "execute_result"
    }
   ],
   "source": [
    "df.isnull().sum()"
   ]
  },
  {
   "cell_type": "code",
   "execution_count": 6,
   "id": "bd0bb874-bf5f-498f-a4ab-e3df2308be2e",
   "metadata": {
    "tags": []
   },
   "outputs": [
    {
     "data": {
      "text/plain": [
       "array([5, 6, 7, 4, 8, 3], dtype=int64)"
      ]
     },
     "execution_count": 6,
     "metadata": {},
     "output_type": "execute_result"
    }
   ],
   "source": [
    "df.quality.unique()"
   ]
  },
  {
   "cell_type": "code",
   "execution_count": 7,
   "id": "b6880b79-c4c4-403d-8084-9a97ad28d47f",
   "metadata": {
    "tags": []
   },
   "outputs": [],
   "source": [
    "df = df.replace({'quality' : {\n",
    "                                    8 : 'Good',\n",
    "                                    7 : 'Good',\n",
    "                                    6 : 'Middle',\n",
    "                                    5 : 'Middle',\n",
    "                                    4 : 'Bad',\n",
    "                                    3 : 'Bad',\n",
    "        }}\n",
    ")"
   ]
  },
  {
   "cell_type": "code",
   "execution_count": 8,
   "id": "c2266285-2e18-4c6d-8d42-6a8ce39bff38",
   "metadata": {
    "tags": []
   },
   "outputs": [
    {
     "data": {
      "text/html": [
       "<div>\n",
       "<style scoped>\n",
       "    .dataframe tbody tr th:only-of-type {\n",
       "        vertical-align: middle;\n",
       "    }\n",
       "\n",
       "    .dataframe tbody tr th {\n",
       "        vertical-align: top;\n",
       "    }\n",
       "\n",
       "    .dataframe thead th {\n",
       "        text-align: right;\n",
       "    }\n",
       "</style>\n",
       "<table border=\"1\" class=\"dataframe\">\n",
       "  <thead>\n",
       "    <tr style=\"text-align: right;\">\n",
       "      <th></th>\n",
       "      <th>0</th>\n",
       "      <th>1</th>\n",
       "      <th>2</th>\n",
       "      <th>3</th>\n",
       "      <th>4</th>\n",
       "      <th>5</th>\n",
       "      <th>6</th>\n",
       "      <th>7</th>\n",
       "      <th>8</th>\n",
       "      <th>9</th>\n",
       "    </tr>\n",
       "  </thead>\n",
       "  <tbody>\n",
       "    <tr>\n",
       "      <th>fixed acidity</th>\n",
       "      <td>7.4</td>\n",
       "      <td>7.8</td>\n",
       "      <td>7.8</td>\n",
       "      <td>11.2</td>\n",
       "      <td>7.4</td>\n",
       "      <td>7.4</td>\n",
       "      <td>7.9</td>\n",
       "      <td>7.3</td>\n",
       "      <td>7.8</td>\n",
       "      <td>7.5</td>\n",
       "    </tr>\n",
       "    <tr>\n",
       "      <th>volatile acidity</th>\n",
       "      <td>0.7</td>\n",
       "      <td>0.88</td>\n",
       "      <td>0.76</td>\n",
       "      <td>0.28</td>\n",
       "      <td>0.7</td>\n",
       "      <td>0.66</td>\n",
       "      <td>0.6</td>\n",
       "      <td>0.65</td>\n",
       "      <td>0.58</td>\n",
       "      <td>0.5</td>\n",
       "    </tr>\n",
       "    <tr>\n",
       "      <th>citric acid</th>\n",
       "      <td>0.0</td>\n",
       "      <td>0.0</td>\n",
       "      <td>0.04</td>\n",
       "      <td>0.56</td>\n",
       "      <td>0.0</td>\n",
       "      <td>0.0</td>\n",
       "      <td>0.06</td>\n",
       "      <td>0.0</td>\n",
       "      <td>0.02</td>\n",
       "      <td>0.36</td>\n",
       "    </tr>\n",
       "    <tr>\n",
       "      <th>residual sugar</th>\n",
       "      <td>1.9</td>\n",
       "      <td>2.6</td>\n",
       "      <td>2.3</td>\n",
       "      <td>1.9</td>\n",
       "      <td>1.9</td>\n",
       "      <td>1.8</td>\n",
       "      <td>1.6</td>\n",
       "      <td>1.2</td>\n",
       "      <td>2.0</td>\n",
       "      <td>6.1</td>\n",
       "    </tr>\n",
       "    <tr>\n",
       "      <th>chlorides</th>\n",
       "      <td>0.076</td>\n",
       "      <td>0.098</td>\n",
       "      <td>0.092</td>\n",
       "      <td>0.075</td>\n",
       "      <td>0.076</td>\n",
       "      <td>0.075</td>\n",
       "      <td>0.069</td>\n",
       "      <td>0.065</td>\n",
       "      <td>0.073</td>\n",
       "      <td>0.071</td>\n",
       "    </tr>\n",
       "    <tr>\n",
       "      <th>free sulfur dioxide</th>\n",
       "      <td>11.0</td>\n",
       "      <td>25.0</td>\n",
       "      <td>15.0</td>\n",
       "      <td>17.0</td>\n",
       "      <td>11.0</td>\n",
       "      <td>13.0</td>\n",
       "      <td>15.0</td>\n",
       "      <td>15.0</td>\n",
       "      <td>9.0</td>\n",
       "      <td>17.0</td>\n",
       "    </tr>\n",
       "    <tr>\n",
       "      <th>total sulfur dioxide</th>\n",
       "      <td>34.0</td>\n",
       "      <td>67.0</td>\n",
       "      <td>54.0</td>\n",
       "      <td>60.0</td>\n",
       "      <td>34.0</td>\n",
       "      <td>40.0</td>\n",
       "      <td>59.0</td>\n",
       "      <td>21.0</td>\n",
       "      <td>18.0</td>\n",
       "      <td>102.0</td>\n",
       "    </tr>\n",
       "    <tr>\n",
       "      <th>density</th>\n",
       "      <td>0.9978</td>\n",
       "      <td>0.9968</td>\n",
       "      <td>0.997</td>\n",
       "      <td>0.998</td>\n",
       "      <td>0.9978</td>\n",
       "      <td>0.9978</td>\n",
       "      <td>0.9964</td>\n",
       "      <td>0.9946</td>\n",
       "      <td>0.9968</td>\n",
       "      <td>0.9978</td>\n",
       "    </tr>\n",
       "    <tr>\n",
       "      <th>pH</th>\n",
       "      <td>3.51</td>\n",
       "      <td>3.2</td>\n",
       "      <td>3.26</td>\n",
       "      <td>3.16</td>\n",
       "      <td>3.51</td>\n",
       "      <td>3.51</td>\n",
       "      <td>3.3</td>\n",
       "      <td>3.39</td>\n",
       "      <td>3.36</td>\n",
       "      <td>3.35</td>\n",
       "    </tr>\n",
       "    <tr>\n",
       "      <th>sulphates</th>\n",
       "      <td>0.56</td>\n",
       "      <td>0.68</td>\n",
       "      <td>0.65</td>\n",
       "      <td>0.58</td>\n",
       "      <td>0.56</td>\n",
       "      <td>0.56</td>\n",
       "      <td>0.46</td>\n",
       "      <td>0.47</td>\n",
       "      <td>0.57</td>\n",
       "      <td>0.8</td>\n",
       "    </tr>\n",
       "    <tr>\n",
       "      <th>alcohol</th>\n",
       "      <td>9.4</td>\n",
       "      <td>9.8</td>\n",
       "      <td>9.8</td>\n",
       "      <td>9.8</td>\n",
       "      <td>9.4</td>\n",
       "      <td>9.4</td>\n",
       "      <td>9.4</td>\n",
       "      <td>10.0</td>\n",
       "      <td>9.5</td>\n",
       "      <td>10.5</td>\n",
       "    </tr>\n",
       "    <tr>\n",
       "      <th>quality</th>\n",
       "      <td>Middle</td>\n",
       "      <td>Middle</td>\n",
       "      <td>Middle</td>\n",
       "      <td>Middle</td>\n",
       "      <td>Middle</td>\n",
       "      <td>Middle</td>\n",
       "      <td>Middle</td>\n",
       "      <td>Good</td>\n",
       "      <td>Good</td>\n",
       "      <td>Middle</td>\n",
       "    </tr>\n",
       "  </tbody>\n",
       "</table>\n",
       "</div>"
      ],
      "text/plain": [
       "                           0       1       2       3       4       5       6  \\\n",
       "fixed acidity            7.4     7.8     7.8    11.2     7.4     7.4     7.9   \n",
       "volatile acidity         0.7    0.88    0.76    0.28     0.7    0.66     0.6   \n",
       "citric acid              0.0     0.0    0.04    0.56     0.0     0.0    0.06   \n",
       "residual sugar           1.9     2.6     2.3     1.9     1.9     1.8     1.6   \n",
       "chlorides              0.076   0.098   0.092   0.075   0.076   0.075   0.069   \n",
       "free sulfur dioxide     11.0    25.0    15.0    17.0    11.0    13.0    15.0   \n",
       "total sulfur dioxide    34.0    67.0    54.0    60.0    34.0    40.0    59.0   \n",
       "density               0.9978  0.9968   0.997   0.998  0.9978  0.9978  0.9964   \n",
       "pH                      3.51     3.2    3.26    3.16    3.51    3.51     3.3   \n",
       "sulphates               0.56    0.68    0.65    0.58    0.56    0.56    0.46   \n",
       "alcohol                  9.4     9.8     9.8     9.8     9.4     9.4     9.4   \n",
       "quality               Middle  Middle  Middle  Middle  Middle  Middle  Middle   \n",
       "\n",
       "                           7       8       9  \n",
       "fixed acidity            7.3     7.8     7.5  \n",
       "volatile acidity        0.65    0.58     0.5  \n",
       "citric acid              0.0    0.02    0.36  \n",
       "residual sugar           1.2     2.0     6.1  \n",
       "chlorides              0.065   0.073   0.071  \n",
       "free sulfur dioxide     15.0     9.0    17.0  \n",
       "total sulfur dioxide    21.0    18.0   102.0  \n",
       "density               0.9946  0.9968  0.9978  \n",
       "pH                      3.39    3.36    3.35  \n",
       "sulphates               0.47    0.57     0.8  \n",
       "alcohol                 10.0     9.5    10.5  \n",
       "quality                 Good    Good  Middle  "
      ]
     },
     "execution_count": 8,
     "metadata": {},
     "output_type": "execute_result"
    }
   ],
   "source": [
    "df.head(10).transpose()"
   ]
  },
  {
   "cell_type": "code",
   "execution_count": 9,
   "id": "e58bc990-3870-421a-bd93-6f5252eb1110",
   "metadata": {
    "tags": []
   },
   "outputs": [],
   "source": [
    "X = df.drop(columns='quality')\n",
    "y = df.quality"
   ]
  },
  {
   "cell_type": "code",
   "execution_count": 10,
   "id": "5858d747-8b93-460a-b7f2-5d65e43149c2",
   "metadata": {
    "tags": []
   },
   "outputs": [],
   "source": [
    "from sklearn.preprocessing import MinMaxScaler\n",
    "scaler = MinMaxScaler(feature_range=(0, 1)).fit_transform(X)\n",
    "X = pd.DataFrame(scaler, columns=X.columns)"
   ]
  },
  {
   "cell_type": "code",
   "execution_count": 11,
   "id": "f4719eee-a56a-417e-9d9e-9738652d70b9",
   "metadata": {
    "tags": []
   },
   "outputs": [
    {
     "name": "stdout",
     "output_type": "stream",
     "text": [
      "   fixed acidity  volatile acidity  citric acid  residual sugar  chlorides  \\\n",
      "0       0.247788          0.397260         0.00        0.068493   0.106845   \n",
      "1       0.283186          0.520548         0.00        0.116438   0.143573   \n",
      "2       0.283186          0.438356         0.04        0.095890   0.133556   \n",
      "3       0.584071          0.109589         0.56        0.068493   0.105175   \n",
      "4       0.247788          0.397260         0.00        0.068493   0.106845   \n",
      "\n",
      "   free sulfur dioxide  total sulfur dioxide   density        pH  sulphates  \\\n",
      "0             0.140845              0.098940  0.567548  0.606299   0.137725   \n",
      "1             0.338028              0.215548  0.494126  0.362205   0.209581   \n",
      "2             0.197183              0.169611  0.508811  0.409449   0.191617   \n",
      "3             0.225352              0.190813  0.582232  0.330709   0.149701   \n",
      "4             0.140845              0.098940  0.567548  0.606299   0.137725   \n",
      "\n",
      "    alcohol  \n",
      "0  0.153846  \n",
      "1  0.215385  \n",
      "2  0.215385  \n",
      "3  0.215385  \n",
      "4  0.153846  \n",
      "0    Middle\n",
      "1    Middle\n",
      "2    Middle\n",
      "3    Middle\n",
      "4    Middle\n",
      "Name: quality, dtype: object\n"
     ]
    }
   ],
   "source": [
    "print(X.head())\n",
    "\n",
    "print(y.head())"
   ]
  },
  {
   "cell_type": "code",
   "execution_count": 12,
   "id": "9bda10f8-ba7c-426b-98d8-8046fedf6e2c",
   "metadata": {
    "tags": []
   },
   "outputs": [],
   "source": [
    "X_train, X_test, y_train, y_test = train_test_split(X, y, test_size=0.25, random_state=0)"
   ]
  },
  {
   "cell_type": "code",
   "execution_count": 13,
   "id": "c0ad633f-739d-436c-a5dd-2a1849ad85a6",
   "metadata": {
    "tags": []
   },
   "outputs": [],
   "source": [
    "knn = KNeighborsClassifier(n_neighbors=3)"
   ]
  },
  {
   "cell_type": "code",
   "execution_count": 14,
   "id": "bb8a0413-3605-4a83-a90b-06405f478aff",
   "metadata": {
    "tags": []
   },
   "outputs": [
    {
     "data": {
      "text/html": [
       "<style>#sk-container-id-1 {color: black;}#sk-container-id-1 pre{padding: 0;}#sk-container-id-1 div.sk-toggleable {background-color: white;}#sk-container-id-1 label.sk-toggleable__label {cursor: pointer;display: block;width: 100%;margin-bottom: 0;padding: 0.3em;box-sizing: border-box;text-align: center;}#sk-container-id-1 label.sk-toggleable__label-arrow:before {content: \"▸\";float: left;margin-right: 0.25em;color: #696969;}#sk-container-id-1 label.sk-toggleable__label-arrow:hover:before {color: black;}#sk-container-id-1 div.sk-estimator:hover label.sk-toggleable__label-arrow:before {color: black;}#sk-container-id-1 div.sk-toggleable__content {max-height: 0;max-width: 0;overflow: hidden;text-align: left;background-color: #f0f8ff;}#sk-container-id-1 div.sk-toggleable__content pre {margin: 0.2em;color: black;border-radius: 0.25em;background-color: #f0f8ff;}#sk-container-id-1 input.sk-toggleable__control:checked~div.sk-toggleable__content {max-height: 200px;max-width: 100%;overflow: auto;}#sk-container-id-1 input.sk-toggleable__control:checked~label.sk-toggleable__label-arrow:before {content: \"▾\";}#sk-container-id-1 div.sk-estimator input.sk-toggleable__control:checked~label.sk-toggleable__label {background-color: #d4ebff;}#sk-container-id-1 div.sk-label input.sk-toggleable__control:checked~label.sk-toggleable__label {background-color: #d4ebff;}#sk-container-id-1 input.sk-hidden--visually {border: 0;clip: rect(1px 1px 1px 1px);clip: rect(1px, 1px, 1px, 1px);height: 1px;margin: -1px;overflow: hidden;padding: 0;position: absolute;width: 1px;}#sk-container-id-1 div.sk-estimator {font-family: monospace;background-color: #f0f8ff;border: 1px dotted black;border-radius: 0.25em;box-sizing: border-box;margin-bottom: 0.5em;}#sk-container-id-1 div.sk-estimator:hover {background-color: #d4ebff;}#sk-container-id-1 div.sk-parallel-item::after {content: \"\";width: 100%;border-bottom: 1px solid gray;flex-grow: 1;}#sk-container-id-1 div.sk-label:hover label.sk-toggleable__label {background-color: #d4ebff;}#sk-container-id-1 div.sk-serial::before {content: \"\";position: absolute;border-left: 1px solid gray;box-sizing: border-box;top: 0;bottom: 0;left: 50%;z-index: 0;}#sk-container-id-1 div.sk-serial {display: flex;flex-direction: column;align-items: center;background-color: white;padding-right: 0.2em;padding-left: 0.2em;position: relative;}#sk-container-id-1 div.sk-item {position: relative;z-index: 1;}#sk-container-id-1 div.sk-parallel {display: flex;align-items: stretch;justify-content: center;background-color: white;position: relative;}#sk-container-id-1 div.sk-item::before, #sk-container-id-1 div.sk-parallel-item::before {content: \"\";position: absolute;border-left: 1px solid gray;box-sizing: border-box;top: 0;bottom: 0;left: 50%;z-index: -1;}#sk-container-id-1 div.sk-parallel-item {display: flex;flex-direction: column;z-index: 1;position: relative;background-color: white;}#sk-container-id-1 div.sk-parallel-item:first-child::after {align-self: flex-end;width: 50%;}#sk-container-id-1 div.sk-parallel-item:last-child::after {align-self: flex-start;width: 50%;}#sk-container-id-1 div.sk-parallel-item:only-child::after {width: 0;}#sk-container-id-1 div.sk-dashed-wrapped {border: 1px dashed gray;margin: 0 0.4em 0.5em 0.4em;box-sizing: border-box;padding-bottom: 0.4em;background-color: white;}#sk-container-id-1 div.sk-label label {font-family: monospace;font-weight: bold;display: inline-block;line-height: 1.2em;}#sk-container-id-1 div.sk-label-container {text-align: center;}#sk-container-id-1 div.sk-container {/* jupyter's `normalize.less` sets `[hidden] { display: none; }` but bootstrap.min.css set `[hidden] { display: none !important; }` so we also need the `!important` here to be able to override the default hidden behavior on the sphinx rendered scikit-learn.org. See: https://github.com/scikit-learn/scikit-learn/issues/21755 */display: inline-block !important;position: relative;}#sk-container-id-1 div.sk-text-repr-fallback {display: none;}</style><div id=\"sk-container-id-1\" class=\"sk-top-container\"><div class=\"sk-text-repr-fallback\"><pre>KNeighborsClassifier(n_neighbors=3)</pre><b>In a Jupyter environment, please rerun this cell to show the HTML representation or trust the notebook. <br />On GitHub, the HTML representation is unable to render, please try loading this page with nbviewer.org.</b></div><div class=\"sk-container\" hidden><div class=\"sk-item\"><div class=\"sk-estimator sk-toggleable\"><input class=\"sk-toggleable__control sk-hidden--visually\" id=\"sk-estimator-id-1\" type=\"checkbox\" checked><label for=\"sk-estimator-id-1\" class=\"sk-toggleable__label sk-toggleable__label-arrow\">KNeighborsClassifier</label><div class=\"sk-toggleable__content\"><pre>KNeighborsClassifier(n_neighbors=3)</pre></div></div></div></div></div>"
      ],
      "text/plain": [
       "KNeighborsClassifier(n_neighbors=3)"
      ]
     },
     "execution_count": 14,
     "metadata": {},
     "output_type": "execute_result"
    }
   ],
   "source": [
    "knn.fit(X_train, y_train)"
   ]
  },
  {
   "cell_type": "code",
   "execution_count": 15,
   "id": "1f219b95-2f6c-4a12-ae46-3be87171f8c6",
   "metadata": {
    "tags": []
   },
   "outputs": [],
   "source": [
    "y_pred = knn.predict(X_test)"
   ]
  },
  {
   "cell_type": "code",
   "execution_count": 16,
   "id": "f49c9ebc-2a2a-4380-ade0-071cdb442095",
   "metadata": {
    "tags": []
   },
   "outputs": [
    {
     "name": "stdout",
     "output_type": "stream",
     "text": [
      "[[  0   0  16]\n",
      " [  0  24  21]\n",
      " [  2  23 314]]\n"
     ]
    }
   ],
   "source": [
    "print(confusion_matrix(y_test, y_pred))"
   ]
  },
  {
   "cell_type": "code",
   "execution_count": 17,
   "id": "dcf7fc30-182a-4cf3-969b-54a926284000",
   "metadata": {
    "tags": []
   },
   "outputs": [
    {
     "name": "stdout",
     "output_type": "stream",
     "text": [
      "              precision    recall  f1-score   support\n",
      "\n",
      "         Bad       0.00      0.00      0.00        16\n",
      "        Good       0.51      0.53      0.52        45\n",
      "      Middle       0.89      0.93      0.91       339\n",
      "\n",
      "    accuracy                           0.84       400\n",
      "   macro avg       0.47      0.49      0.48       400\n",
      "weighted avg       0.82      0.84      0.83       400\n",
      "\n"
     ]
    }
   ],
   "source": [
    "print(classification_report(y_test, y_pred))"
   ]
  },
  {
   "cell_type": "code",
   "execution_count": 18,
   "id": "b64a4823-7837-4e8e-b65e-d0d2834a7428",
   "metadata": {
    "tags": []
   },
   "outputs": [],
   "source": [
    "scores_list = []\n",
    "for k in range(1, 40):\n",
    "    knn = KNeighborsClassifier(n_neighbors=k)\n",
    "    knn.fit(X_train, y_train)\n",
    "    y_pred = knn.predict(X_test)\n",
    "    scores_list.append(np.mean(y_pred == y_test))"
   ]
  },
  {
   "cell_type": "code",
   "execution_count": 19,
   "id": "5bd6c674",
   "metadata": {},
   "outputs": [
    {
     "data": {
      "text/plain": [
       "[0.845,\n",
       " 0.74,\n",
       " 0.845,\n",
       " 0.7975,\n",
       " 0.82,\n",
       " 0.8125,\n",
       " 0.8325,\n",
       " 0.815,\n",
       " 0.8225,\n",
       " 0.8175,\n",
       " 0.83,\n",
       " 0.8175,\n",
       " 0.8375,\n",
       " 0.835,\n",
       " 0.84,\n",
       " 0.8375,\n",
       " 0.84,\n",
       " 0.8375,\n",
       " 0.8425,\n",
       " 0.8325,\n",
       " 0.8375,\n",
       " 0.8325,\n",
       " 0.845,\n",
       " 0.84,\n",
       " 0.8475,\n",
       " 0.8425,\n",
       " 0.8475,\n",
       " 0.84,\n",
       " 0.8425,\n",
       " 0.8475,\n",
       " 0.85,\n",
       " 0.8475,\n",
       " 0.845,\n",
       " 0.8425,\n",
       " 0.845,\n",
       " 0.845,\n",
       " 0.8525,\n",
       " 0.8475,\n",
       " 0.85]"
      ]
     },
     "execution_count": 19,
     "metadata": {},
     "output_type": "execute_result"
    }
   ],
   "source": [
    "scores_list"
   ]
  },
  {
   "cell_type": "code",
   "execution_count": 20,
   "id": "d8a2ff19-3332-49c6-a065-c5da000c6765",
   "metadata": {
    "tags": []
   },
   "outputs": [
    {
     "data": {
      "image/png": "[encoded data removed]",
      "text/plain": [
       "<Figure size 640x480 with 1 Axes>"
      ]
     },
     "metadata": {},
     "output_type": "display_data"
    }
   ],
   "source": [
    "import matplotlib.pyplot as plt\n",
    "plt.plot(range(1, 40), scores_list)\n",
    "plt.xlabel('k')\n",
    "plt.ylabel('Accuracy')\n",
    "plt.title('Quality of red wine')\n",
    "plt.show()"
   ]
  },
  {
   "cell_type": "code",
   "execution_count": 25,
   "id": "889bdfb7-caa9-48dd-8807-d2b3e20ad055",
   "metadata": {
    "tags": []
   },
   "outputs": [],
   "source": [
    "from sklearn.model_selection import GridSearchCV \n",
    "k_range = list(range(2, 40))\n",
    "weight_options = ['uniform', 'distance']\n",
    "metric = [\"manhattan\",\"euclidean\",\"jaccard\"]\n",
    "param_grid = dict(n_neighbors=k_range, weights=weight_options, metric=metric)\n"
   ]
  },
  {
   "cell_type": "code",
   "execution_count": 26,
   "id": "8077e60e-65aa-4434-b10e-c87e0825352e",
   "metadata": {
    "tags": []
   },
   "outputs": [],
   "source": [
    "knn = KNeighborsClassifier()"
   ]
  },
  {
   "cell_type": "code",
   "execution_count": 23,
   "id": "4d7da673-3734-431a-8e65-cfe7763300e9",
   "metadata": {
    "tags": []
   },
   "outputs": [],
   "source": [
    "grid = GridSearchCV(knn, param_grid, cv=5, scoring='f1_macro', n_jobs=-1, verbose=1)\n"
   ]
  },
  {
   "cell_type": "code",
   "execution_count": 24,
   "id": "7170973b-c319-43f0-ab60-0dfe14f130fe",
   "metadata": {
    "tags": []
   },
   "outputs": [
    {
     "name": "stdout",
     "output_type": "stream",
     "text": [
      "Fitting 5 folds for each of 228 candidates, totalling 1140 fits\n"
     ]
    },
    {
     "data": {
      "text/html": [
       "<style>#sk-container-id-2 {color: black;}#sk-container-id-2 pre{padding: 0;}#sk-container-id-2 div.sk-toggleable {background-color: white;}#sk-container-id-2 label.sk-toggleable__label {cursor: pointer;display: block;width: 100%;margin-bottom: 0;padding: 0.3em;box-sizing: border-box;text-align: center;}#sk-container-id-2 label.sk-toggleable__label-arrow:before {content: \"▸\";float: left;margin-right: 0.25em;color: #696969;}#sk-container-id-2 label.sk-toggleable__label-arrow:hover:before {color: black;}#sk-container-id-2 div.sk-estimator:hover label.sk-toggleable__label-arrow:before {color: black;}#sk-container-id-2 div.sk-toggleable__content {max-height: 0;max-width: 0;overflow: hidden;text-align: left;background-color: #f0f8ff;}#sk-container-id-2 div.sk-toggleable__content pre {margin: 0.2em;color: black;border-radius: 0.25em;background-color: #f0f8ff;}#sk-container-id-2 input.sk-toggleable__control:checked~div.sk-toggleable__content {max-height: 200px;max-width: 100%;overflow: auto;}#sk-container-id-2 input.sk-toggleable__control:checked~label.sk-toggleable__label-arrow:before {content: \"▾\";}#sk-container-id-2 div.sk-estimator input.sk-toggleable__control:checked~label.sk-toggleable__label {background-color: #d4ebff;}#sk-container-id-2 div.sk-label input.sk-toggleable__control:checked~label.sk-toggleable__label {background-color: #d4ebff;}#sk-container-id-2 input.sk-hidden--visually {border: 0;clip: rect(1px 1px 1px 1px);clip: rect(1px, 1px, 1px, 1px);height: 1px;margin: -1px;overflow: hidden;padding: 0;position: absolute;width: 1px;}#sk-container-id-2 div.sk-estimator {font-family: monospace;background-color: #f0f8ff;border: 1px dotted black;border-radius: 0.25em;box-sizing: border-box;margin-bottom: 0.5em;}#sk-container-id-2 div.sk-estimator:hover {background-color: #d4ebff;}#sk-container-id-2 div.sk-parallel-item::after {content: \"\";width: 100%;border-bottom: 1px solid gray;flex-grow: 1;}#sk-container-id-2 div.sk-label:hover label.sk-toggleable__label {background-color: #d4ebff;}#sk-container-id-2 div.sk-serial::before {content: \"\";position: absolute;border-left: 1px solid gray;box-sizing: border-box;top: 0;bottom: 0;left: 50%;z-index: 0;}#sk-container-id-2 div.sk-serial {display: flex;flex-direction: column;align-items: center;background-color: white;padding-right: 0.2em;padding-left: 0.2em;position: relative;}#sk-container-id-2 div.sk-item {position: relative;z-index: 1;}#sk-container-id-2 div.sk-parallel {display: flex;align-items: stretch;justify-content: center;background-color: white;position: relative;}#sk-container-id-2 div.sk-item::before, #sk-container-id-2 div.sk-parallel-item::before {content: \"\";position: absolute;border-left: 1px solid gray;box-sizing: border-box;top: 0;bottom: 0;left: 50%;z-index: -1;}#sk-container-id-2 div.sk-parallel-item {display: flex;flex-direction: column;z-index: 1;position: relative;background-color: white;}#sk-container-id-2 div.sk-parallel-item:first-child::after {align-self: flex-end;width: 50%;}#sk-container-id-2 div.sk-parallel-item:last-child::after {align-self: flex-start;width: 50%;}#sk-container-id-2 div.sk-parallel-item:only-child::after {width: 0;}#sk-container-id-2 div.sk-dashed-wrapped {border: 1px dashed gray;margin: 0 0.4em 0.5em 0.4em;box-sizing: border-box;padding-bottom: 0.4em;background-color: white;}#sk-container-id-2 div.sk-label label {font-family: monospace;font-weight: bold;display: inline-block;line-height: 1.2em;}#sk-container-id-2 div.sk-label-container {text-align: center;}#sk-container-id-2 div.sk-container {/* jupyter's `normalize.less` sets `[hidden] { display: none; }` but bootstrap.min.css set `[hidden] { display: none !important; }` so we also need the `!important` here to be able to override the default hidden behavior on the sphinx rendered scikit-learn.org. See: https://github.com/scikit-learn/scikit-learn/issues/21755 */display: inline-block !important;position: relative;}#sk-container-id-2 div.sk-text-repr-fallback {display: none;}</style><div id=\"sk-container-id-2\" class=\"sk-top-container\"><div class=\"sk-text-repr-fallback\"><pre>GridSearchCV(cv=5, estimator=KNeighborsClassifier(), n_jobs=-1,\n",
       "             param_grid={&#x27;metric&#x27;: [&#x27;manhattan&#x27;, &#x27;euclidean&#x27;, &#x27;jaccard&#x27;],\n",
       "                         &#x27;n_neighbors&#x27;: [2, 3, 4, 5, 6, 7, 8, 9, 10, 11, 12, 13,\n",
       "                                         14, 15, 16, 17, 18, 19, 20, 21, 22, 23,\n",
       "                                         24, 25, 26, 27, 28, 29, 30, 31, ...],\n",
       "                         &#x27;weights&#x27;: [&#x27;uniform&#x27;, &#x27;distance&#x27;]},\n",
       "             scoring=&#x27;f1_macro&#x27;, verbose=1)</pre><b>In a Jupyter environment, please rerun this cell to show the HTML representation or trust the notebook. <br />On GitHub, the HTML representation is unable to render, please try loading this page with nbviewer.org.</b></div><div class=\"sk-container\" hidden><div class=\"sk-item sk-dashed-wrapped\"><div class=\"sk-label-container\"><div class=\"sk-label sk-toggleable\"><input class=\"sk-toggleable__control sk-hidden--visually\" id=\"sk-estimator-id-2\" type=\"checkbox\" ><label for=\"sk-estimator-id-2\" class=\"sk-toggleable__label sk-toggleable__label-arrow\">GridSearchCV</label><div class=\"sk-toggleable__content\"><pre>GridSearchCV(cv=5, estimator=KNeighborsClassifier(), n_jobs=-1,\n",
       "             param_grid={&#x27;metric&#x27;: [&#x27;manhattan&#x27;, &#x27;euclidean&#x27;, &#x27;jaccard&#x27;],\n",
       "                         &#x27;n_neighbors&#x27;: [2, 3, 4, 5, 6, 7, 8, 9, 10, 11, 12, 13,\n",
       "                                         14, 15, 16, 17, 18, 19, 20, 21, 22, 23,\n",
       "                                         24, 25, 26, 27, 28, 29, 30, 31, ...],\n",
       "                         &#x27;weights&#x27;: [&#x27;uniform&#x27;, &#x27;distance&#x27;]},\n",
       "             scoring=&#x27;f1_macro&#x27;, verbose=1)</pre></div></div></div><div class=\"sk-parallel\"><div class=\"sk-parallel-item\"><div class=\"sk-item\"><div class=\"sk-label-container\"><div class=\"sk-label sk-toggleable\"><input class=\"sk-toggleable__control sk-hidden--visually\" id=\"sk-estimator-id-3\" type=\"checkbox\" ><label for=\"sk-estimator-id-3\" class=\"sk-toggleable__label sk-toggleable__label-arrow\">estimator: KNeighborsClassifier</label><div class=\"sk-toggleable__content\"><pre>KNeighborsClassifier()</pre></div></div></div><div class=\"sk-serial\"><div class=\"sk-item\"><div class=\"sk-estimator sk-toggleable\"><input class=\"sk-toggleable__control sk-hidden--visually\" id=\"sk-estimator-id-4\" type=\"checkbox\" ><label for=\"sk-estimator-id-4\" class=\"sk-toggleable__label sk-toggleable__label-arrow\">KNeighborsClassifier</label><div class=\"sk-toggleable__content\"><pre>KNeighborsClassifier()</pre></div></div></div></div></div></div></div></div></div></div>"
      ],
      "text/plain": [
       "GridSearchCV(cv=5, estimator=KNeighborsClassifier(), n_jobs=-1,\n",
       "             param_grid={'metric': ['manhattan', 'euclidean', 'jaccard'],\n",
       "                         'n_neighbors': [2, 3, 4, 5, 6, 7, 8, 9, 10, 11, 12, 13,\n",
       "                                         14, 15, 16, 17, 18, 19, 20, 21, 22, 23,\n",
       "                                         24, 25, 26, 27, 28, 29, 30, 31, ...],\n",
       "                         'weights': ['uniform', 'distance']},\n",
       "             scoring='f1_macro', verbose=1)"
      ]
     },
     "execution_count": 24,
     "metadata": {},
     "output_type": "execute_result"
    }
   ],
   "source": [
    "grid.fit(X, y)"
   ]
  },
  {
   "cell_type": "code",
   "execution_count": 27,
   "id": "1c589f49-be43-4ddd-b294-91a121b3f449",
   "metadata": {
    "tags": []
   },
   "outputs": [
    {
     "name": "stdout",
     "output_type": "stream",
     "text": [
      "KNeighborsClassifier(metric='euclidean', n_neighbors=6)\n"
     ]
    }
   ],
   "source": [
    "print(grid.best_estimator_)"
   ]
  },
  {
   "cell_type": "code",
   "execution_count": 28,
   "id": "74b4a87b-203b-4b0a-a932-1045d53b55e0",
   "metadata": {
    "tags": []
   },
   "outputs": [],
   "source": [
    "model_knn = grid.best_estimator_"
   ]
  },
  {
   "cell_type": "code",
   "execution_count": 31,
   "id": "57624c42",
   "metadata": {},
   "outputs": [
    {
     "data": {
      "text/plain": [
       "array([0.52395028, 0.46068376, 0.49896711, 0.61571176, 0.39904283,\n",
       "       0.46010653, 0.56469379, 0.60309484, 0.48334264, 0.51169538])"
      ]
     },
     "execution_count": 31,
     "metadata": {},
     "output_type": "execute_result"
    }
   ],
   "source": [
    "scores = cross_val_score(model_knn, X_train, y_train, cv=10, scoring='f1_macro') \n",
    "scores"
   ]
  },
  {
   "cell_type": "code",
   "execution_count": 33,
   "id": "07d5b795",
   "metadata": {},
   "outputs": [
    {
     "data": {
      "text/plain": [
       "0.5121288925512675"
      ]
     },
     "execution_count": 33,
     "metadata": {},
     "output_type": "execute_result"
    }
   ],
   "source": [
    "scores.mean()"
   ]
  }
 ],
 "metadata": {
  "kernelspec": {
   "display_name": "Python 3 (ipykernel)",
   "language": "python",
   "name": "python3"
  },
  "language_info": {
   "codemirror_mode": {
    "name": "ipython",
    "version": 3
   },
   "file_extension": ".py",
   "mimetype": "text/x-python",
   "name": "python",
   "nbconvert_exporter": "python",
   "pygments_lexer": "ipython3",
   "version": "3.11.5"
  }
 },
 "nbformat": 4,
 "nbformat_minor": 5
}
